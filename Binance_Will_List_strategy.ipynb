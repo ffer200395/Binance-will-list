{
  "nbformat": 4,
  "nbformat_minor": 0,
  "metadata": {
    "colab": {
      "provenance": [],
      "authorship_tag": "ABX9TyOILNL4lccWYS8SQLB4fwAs",
      "include_colab_link": true
    },
    "kernelspec": {
      "name": "python3",
      "display_name": "Python 3"
    },
    "language_info": {
      "name": "python"
    }
  },
  "cells": [
    {
      "cell_type": "markdown",
      "metadata": {
        "id": "view-in-github",
        "colab_type": "text"
      },
      "source": [
        "<a href=\"https://colab.research.google.com/github/ffer200395/Binance-will-list/blob/main/Binance_Will_List_strategy.ipynb\" target=\"_parent\"><img src=\"https://colab.research.google.com/assets/colab-badge.svg\" alt=\"Open In Colab\"/></a>"
      ]
    },
    {
      "cell_type": "code",
      "source": [
        "!pip install gate_api"
      ],
      "metadata": {
        "colab": {
          "base_uri": "https://localhost:8080/"
        },
        "id": "vJgNukiS_SSz",
        "outputId": "6c2d994a-8af3-400e-a441-748844e3e331"
      },
      "execution_count": null,
      "outputs": [
        {
          "output_type": "stream",
          "name": "stdout",
          "text": [
            "Looking in indexes: https://pypi.org/simple, https://us-python.pkg.dev/colab-wheels/public/simple/\n",
            "Collecting gate_api\n",
            "  Downloading gate_api-4.26.0-py3-none-any.whl (286 kB)\n",
            "\u001b[K     |████████████████████████████████| 286 kB 5.2 MB/s \n",
            "\u001b[?25hRequirement already satisfied: six>=1.10 in /usr/local/lib/python3.7/dist-packages (from gate_api) (1.15.0)\n",
            "Requirement already satisfied: certifi in /usr/local/lib/python3.7/dist-packages (from gate_api) (2022.9.24)\n",
            "Requirement already satisfied: python-dateutil in /usr/local/lib/python3.7/dist-packages (from gate_api) (2.8.2)\n",
            "Requirement already satisfied: urllib3>=1.15 in /usr/local/lib/python3.7/dist-packages (from gate_api) (1.24.3)\n",
            "Installing collected packages: gate-api\n",
            "Successfully installed gate-api-4.26.0\n"
          ]
        }
      ]
    },
    {
      "cell_type": "code",
      "source": [
        "# Para realizar peticiones\n",
        "import requests\n",
        "# Para evitar baneos\n",
        "import time\n",
        "# Para cargar credenciales\n",
        "import yaml\n",
        "# Operaciones con la API de gateio\n",
        "from gate_api import ApiClient, Configuration, SpotApi, Order"
      ],
      "metadata": {
        "id": "vGZb0Vyo8dXF"
      },
      "execution_count": null,
      "outputs": []
    },
    {
      "cell_type": "markdown",
      "source": [
        "# Paso 0: Pseudocódigo"
      ],
      "metadata": {
        "id": "XKDJUUMk6iKG"
      }
    },
    {
      "cell_type": "code",
      "source": [
        "# Iniciar sesión en la api de gateio para spot\n",
        "# Continuamente\n",
        "  # Consultar el último anuncio de Binance\n",
        "  # Comprobar que el último anuncio no sea el último que se registró\n",
        "  # Si el anuncio es el igual hace el time sleep para evitar el baneao de la api y se va al paso 1 (de conultar el último anuncio)\n",
        "  # Si es distinto se procede a comprobar si es un anuncio válido\n",
        "  # Si es válido se extrae el primer par anunciado para usdt\n",
        "  # Devolver el par extraido\n",
        "  # Comprar el par obtenido en gateio\n",
        "  # Establecer orden de venta cuando precio supere un umbral\n",
        "  # Salir\n",
        "# Ejemplo archivo auth.yml\n",
        "\"\"\"\n",
        "---\n",
        "  # CLIENT DETAILS\n",
        "  gateio_api: \"jdsgjdijgierjguer89g897907g97999\"\n",
        "  gateio_secret: \"dsgfhfdhgfnhh89x8900n9890xfgh97dfb8gf6n7gf6ngn75gf75c67x5965cfb\"\n",
        "\"\"\""
      ],
      "metadata": {
        "id": "oGQ-87K2DzYN"
      },
      "execution_count": null,
      "outputs": []
    },
    {
      "cell_type": "markdown",
      "source": [
        "# Paso 1: Realizar consulta a la api de Binance para obtener el último anuncio"
      ],
      "metadata": {
        "id": "i9Hk5KCf7gDo"
      }
    },
    {
      "cell_type": "code",
      "source": [
        "def get_last_ad():\n",
        "  # Realizamos la petición a la api para obtener el último anuncio publicado\n",
        "  request = requests.get(\"https://www.binance.com/bapi/composite/v1/public/cms/article/catalog/list/query?catalogId=48&pageNo=1&pageSize=3\")\n",
        "  # Si se ha podido realizar la consulta correctamente\n",
        "  if request.status_code==200:\n",
        "    # Devolvemos el título del primer anuncio\n",
        "    return request.json()['data']['articles'][0]['title']\n",
        "  else:\n",
        "    return None"
      ],
      "metadata": {
        "id": "ZaIZ0UhI-7ju"
      },
      "execution_count": null,
      "outputs": []
    },
    {
      "cell_type": "code",
      "source": [
        "# Ejemplo\n",
        "get_last_ad()"
      ],
      "metadata": {
        "colab": {
          "base_uri": "https://localhost:8080/",
          "height": 35
        },
        "id": "N4uxTCDa42Vq",
        "outputId": "5700ddd6-5cdf-4a97-c9b9-8157f2ded1ce"
      },
      "execution_count": null,
      "outputs": [
        {
          "output_type": "execute_result",
          "data": {
            "text/plain": [
              "'Binance Adds LAZIO, PORTO & More Pairs on Cross Margin and Isolated Margin'"
            ],
            "application/vnd.google.colaboratory.intrinsic+json": {
              "type": "string"
            }
          },
          "metadata": {},
          "execution_count": 34
        }
      ]
    },
    {
      "cell_type": "markdown",
      "source": [
        "# Paso 2: Comprobamos que el anuncio sea válido"
      ],
      "metadata": {
        "id": "HFr3GVts5GIN"
      }
    },
    {
      "cell_type": "code",
      "source": [
        "def get_new_coin(title):\n",
        "  # Queremos que sea un anuncio válido para spot\n",
        "  if 'Will List' in title and (('Futures' or 'Margin' or 'Innovation') not in title):\n",
        "    # Obtenemos las monedas que se listarán\n",
        "    coins = [word[1:-1] for word in title.split(' ') if word.isupper()]\n",
        "    # Devolvemos la primera encontrada si se ha encontrado algo\n",
        "    return coins[0] if len(coins)>0 else None"
      ],
      "metadata": {
        "id": "afDTY9eq5OGZ"
      },
      "execution_count": null,
      "outputs": []
    },
    {
      "cell_type": "code",
      "source": [
        "# Ejemplo\n",
        "#https://www.binance.com/en/support/announcement/5071ca5162df4f5696f93df1dacd260a\n",
        "#https://www.binance.com/en/support/announcement/b76eb4e952a94959afb5964c32ddbb7a\n",
        "#https://www.binance.com/en/support/announcement/1b82de6f419743e2ac940566e6639b8b\n",
        "get_new_coin('Binance Will List MobileCoin (MOB) and Nexo (NEXO)')"
      ],
      "metadata": {
        "colab": {
          "base_uri": "https://localhost:8080/",
          "height": 35
        },
        "id": "EHMRmgJa7af5",
        "outputId": "920d4752-c16e-4130-a514-c598402170d6"
      },
      "execution_count": null,
      "outputs": [
        {
          "output_type": "execute_result",
          "data": {
            "text/plain": [
              "'MOB'"
            ],
            "application/vnd.google.colaboratory.intrinsic+json": {
              "type": "string"
            }
          },
          "metadata": {},
          "execution_count": 30
        }
      ]
    },
    {
      "cell_type": "markdown",
      "source": [
        "# Paso 3: Inicio de sesión en la API de Gateio"
      ],
      "metadata": {
        "id": "QniEGBR89bYs"
      }
    },
    {
      "cell_type": "code",
      "source": [
        "def login_gateio(path):\n",
        "  # Cargamos credenciales\n",
        "  with open(path) as file:\n",
        "    auth = yaml.load(file, Loader=yaml.FullLoader)\n",
        "    # Inicio de sesión\n",
        "    client = Configuration(key=auth['gateio_api'], secret=auth['gateio_secret'])\n",
        "    # Llamamos a spot\n",
        "    return SpotApi(ApiClient(client))"
      ],
      "metadata": {
        "id": "ot1PGeS89jXj"
      },
      "execution_count": null,
      "outputs": []
    },
    {
      "cell_type": "code",
      "source": [
        "# Ejemplo\n",
        "spot_api = login_gateio('/content/auth.yml')\n",
        "spot_api"
      ],
      "metadata": {
        "colab": {
          "base_uri": "https://localhost:8080/"
        },
        "id": "bg--kpob-1Zu",
        "outputId": "bc2d14b2-6963-4fe1-d392-a248d4ffe600"
      },
      "execution_count": null,
      "outputs": [
        {
          "output_type": "execute_result",
          "data": {
            "text/plain": [
              "<gate_api.api.spot_api.SpotApi at 0x7f3716dd7290>"
            ]
          },
          "metadata": {},
          "execution_count": 4
        }
      ]
    },
    {
      "cell_type": "code",
      "source": [
        "# Ejemplo de venta\n",
        "p = spot_api.list_tickers(currency_pair='ADA_USDT')[0].last\n",
        "order_sell = Order(amount=str(10), price=p,side='sell', currency_pair='ADA_USDT',time_in_force='ioc')\n",
        "spot_api.create_order(order_sell)"
      ],
      "metadata": {
        "colab": {
          "base_uri": "https://localhost:8080/"
        },
        "id": "1MdUi7KYuy_2",
        "outputId": "e8ac9be2-dce6-4873-d875-cff30eace40b"
      },
      "execution_count": null,
      "outputs": [
        {
          "output_type": "execute_result",
          "data": {
            "text/plain": [
              "{'account': 'spot',\n",
              " 'amount': '10',\n",
              " 'auto_borrow': None,\n",
              " 'auto_repay': None,\n",
              " 'create_time': '1666174684',\n",
              " 'create_time_ms': 1666174684811,\n",
              " 'currency_pair': 'ADA_USDT',\n",
              " 'fee': '0',\n",
              " 'fee_currency': 'USDT',\n",
              " 'fill_price': '0',\n",
              " 'filled_total': '0',\n",
              " 'gt_discount': False,\n",
              " 'gt_fee': '0',\n",
              " 'iceberg': '0',\n",
              " 'id': '213718282648',\n",
              " 'left': '10',\n",
              " 'point_fee': '0',\n",
              " 'price': '0.35862',\n",
              " 'rebated_fee': '0',\n",
              " 'rebated_fee_currency': 'ADA',\n",
              " 'side': 'sell',\n",
              " 'status': 'cancelled',\n",
              " 'text': 'apiv4',\n",
              " 'time_in_force': 'ioc',\n",
              " 'type': 'limit',\n",
              " 'update_time': '1666174684',\n",
              " 'update_time_ms': 1666174684811}"
            ]
          },
          "metadata": {},
          "execution_count": 9
        }
      ]
    },
    {
      "cell_type": "markdown",
      "source": [
        "# Paso 4: Establecer orden de compra y venta en Gateio para la moneda extraído"
      ],
      "metadata": {
        "id": "65h_wFpM_tfB"
      }
    },
    {
      "cell_type": "code",
      "source": [
        "def make_orders(spot_api, coin, capital, pct_sell):\n",
        "  # Consultamos el precio de la moneda\n",
        "  tickers = spot_api.list_tickers(currency_pair=f'{coin}_USDT')\n",
        "  if len(tickers) == 1:\n",
        "    # Establecemos el precio de compra y el de venta\n",
        "    price_buy = float(tickers[0].last)\n",
        "    price_sell = price_buy+(price_buy*pct_sell)\n",
        "    # Calculamos que cantidad podemos comprar\n",
        "    qty = capital/price_buy\n",
        "    # Establecemos la orden de compra\n",
        "    order_buy = Order(amount=str(qty), price=str(price_buy), side='buy', currency_pair=f'{coin}_USDT',time_in_force='ioc')\n",
        "    spot_api.create_order(order_buy)\n",
        "    # Establecemos la orden de venta\n",
        "    order_sell = Order(amount=str(qty), price=str(price_sell), side='sell', currency_pair=f'{coin}_USDT',time_in_force='ioc')\n",
        "    spot_api.create_order(order_sell)"
      ],
      "metadata": {
        "id": "jkKcgOpF_zwe"
      },
      "execution_count": null,
      "outputs": []
    },
    {
      "cell_type": "markdown",
      "source": [
        "# Paso 5: Lo unimos todo"
      ],
      "metadata": {
        "id": "0H-qkV-NES_E"
      }
    },
    {
      "cell_type": "code",
      "source": [
        "# Capital a invertir en la operación y porcentaje de venta\n",
        "capital, pct_sell = 10, 0.5\n",
        "# Dejamos la sesión iniciada en Gateio\n",
        "spot_api = login_gateio('/content/auth.yml')\n",
        "# Inicialmente el último anuncio es el que está\n",
        "last_ad = get_last_ad()\n",
        "while True:\n",
        "  # Buscamos un nuevo anuncio\n",
        "  new_ad = get_last_ad()\n",
        "  # Si el nuevo anuncio capturado es el mismo al que ya teníamos debe continuar buacando\n",
        "  if last_ad == new_ad:\n",
        "    time.sleep(1)\n",
        "    continue\n",
        "  # Si es distinto se debe comprobar que sea un anuncio válido\n",
        "  else:\n",
        "    new_coin = get_new_coin(new_ad)\n",
        "    # Si es una moneda válida se establecen las órdenes de compra y venta en gateio\n",
        "    if new_coin!=None:\n",
        "      make_orders(spot_api, new_coin, capital, pct_sell)\n",
        "      # Una vez puestas salimos\n",
        "      break\n",
        "    else:\n",
        "      time.sleep(1)\n",
        "      continue\n",
        "      "
      ],
      "metadata": {
        "id": "HwiuiSwnESqG"
      },
      "execution_count": null,
      "outputs": []
    }
  ]
}